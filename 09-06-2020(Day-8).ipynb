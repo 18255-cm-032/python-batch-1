{
 "cells": [
  {
   "cell_type": "markdown",
   "metadata": {},
   "source": [
    "### Functions:\n",
    "\n",
    "* Function is a set of code and it is used to execute a particular\n",
    "* It can be callable at a anytime repeatedly.\n",
    "* It is reusable.\n",
    "\n",
    "#### Built-in-Functions :\n",
    "\n",
    "* the functions which are predefined in python are known as built-in-functions.the below are some exaples of built-in-functions.\n",
    "\n",
    "* int()\n",
    "* float()\n",
    "* sum()\n",
    "* print()\n",
    "* type()\n",
    "* max()\n",
    "* min()\n",
    "* abs()\n",
    "* list()\n",
    "* dict()\n",
    "* tuple()\n",
    "* set()\n",
    "\n",
    "##### User defined Functions:\n",
    "\n",
    "* The function which can be created by the user based on his requirement .That is User defined function.\n",
    "\n",
    "* Parameter is the variable name/input name that you are passing into the function.\n",
    "* Argument is the value given to the variable."
   ]
  },
  {
   "cell_type": "markdown",
   "metadata": {},
   "source": [
    "###### Syntax for Function creation:\n",
    "\n"
   ]
  },
  {
   "cell_type": "markdown",
   "metadata": {},
   "source": [
    "def function_name(parameter):  ### defining the function and passing the parameters\n",
    "    program code\n",
    "    :\n",
    "    :\n",
    "    :\n",
    "    return value\n",
    "    \n",
    "function_name(argument)"
   ]
  },
  {
   "cell_type": "code",
   "execution_count": 2,
   "metadata": {},
   "outputs": [
    {
     "name": "stdout",
     "output_type": "stream",
     "text": [
      "5\n",
      "120\n"
     ]
    }
   ],
   "source": [
    "### Factorial of a number: 5! = 5*4*3*2*1\n",
    "\n",
    "n = int(input())\n",
    "fact = 1\n",
    "for i in range(1,n+1):\n",
    "    fact = fact*i\n",
    "print(fact)\n",
    "\n",
    "\n",
    "\n"
   ]
  },
  {
   "cell_type": "code",
   "execution_count": 3,
   "metadata": {},
   "outputs": [],
   "source": [
    "def factorial(n):\n",
    "    fact = 1\n",
    "    for i in range(1,n+1):\n",
    "        fact = fact * i\n",
    "    return fact\n"
   ]
  },
  {
   "cell_type": "code",
   "execution_count": 4,
   "metadata": {},
   "outputs": [
    {
     "data": {
      "text/plain": [
       "120"
      ]
     },
     "execution_count": 4,
     "metadata": {},
     "output_type": "execute_result"
    }
   ],
   "source": [
    "factorial(5)"
   ]
  },
  {
   "cell_type": "markdown",
   "metadata": {},
   "source": [
    "### Types of Functions:\n",
    "\n",
    "* without Argument and without return\n",
    "* Without Argument and with return\n",
    "* With Argument and without return\n",
    "* With Argument and with Return\n"
   ]
  },
  {
   "cell_type": "markdown",
   "metadata": {},
   "source": [
    "##### without Argument and without return"
   ]
  },
  {
   "cell_type": "markdown",
   "metadata": {},
   "source": [
    "def function_name():\n",
    "    input1\n",
    "    input2\n",
    "    output\n",
    "    print(output)\n",
    "    \n",
    "function_name()\n"
   ]
  },
  {
   "cell_type": "code",
   "execution_count": 5,
   "metadata": {},
   "outputs": [],
   "source": [
    "def add():\n",
    "    a = 20\n",
    "    b = 30\n",
    "    c = a + b\n",
    "    print(\"without argument and without return function:\",c)\n",
    "\n",
    "    "
   ]
  },
  {
   "cell_type": "code",
   "execution_count": 6,
   "metadata": {},
   "outputs": [
    {
     "name": "stdout",
     "output_type": "stream",
     "text": [
      "without argument and without return function: 50\n"
     ]
    }
   ],
   "source": [
    "add()"
   ]
  },
  {
   "cell_type": "code",
   "execution_count": 30,
   "metadata": {},
   "outputs": [],
   "source": [
    "#### Displaying 1 to 10 numbers\n",
    "## return will store only one particular value .\n",
    "## print will written all the defined values.\n",
    "def number():\n",
    "    a = 10\n",
    "    for i in range(1,a+1):\n",
    "        c = i\n",
    "        print(i)\n",
    "    return(c)\n",
    "    "
   ]
  },
  {
   "cell_type": "code",
   "execution_count": 31,
   "metadata": {},
   "outputs": [
    {
     "name": "stdout",
     "output_type": "stream",
     "text": [
      "1\n",
      "2\n",
      "3\n",
      "4\n",
      "5\n",
      "6\n",
      "7\n",
      "8\n",
      "9\n",
      "10\n"
     ]
    },
    {
     "data": {
      "text/plain": [
       "10"
      ]
     },
     "execution_count": 31,
     "metadata": {},
     "output_type": "execute_result"
    }
   ],
   "source": [
    "number()"
   ]
  },
  {
   "cell_type": "code",
   "execution_count": 32,
   "metadata": {
    "scrolled": true
   },
   "outputs": [
    {
     "data": {
      "text/plain": [
       "['__annotations__',\n",
       " '__call__',\n",
       " '__class__',\n",
       " '__closure__',\n",
       " '__code__',\n",
       " '__defaults__',\n",
       " '__delattr__',\n",
       " '__dict__',\n",
       " '__dir__',\n",
       " '__doc__',\n",
       " '__eq__',\n",
       " '__format__',\n",
       " '__ge__',\n",
       " '__get__',\n",
       " '__getattribute__',\n",
       " '__globals__',\n",
       " '__gt__',\n",
       " '__hash__',\n",
       " '__init__',\n",
       " '__init_subclass__',\n",
       " '__kwdefaults__',\n",
       " '__le__',\n",
       " '__lt__',\n",
       " '__module__',\n",
       " '__name__',\n",
       " '__ne__',\n",
       " '__new__',\n",
       " '__qualname__',\n",
       " '__reduce__',\n",
       " '__reduce_ex__',\n",
       " '__repr__',\n",
       " '__setattr__',\n",
       " '__sizeof__',\n",
       " '__str__',\n",
       " '__subclasshook__']"
      ]
     },
     "execution_count": 32,
     "metadata": {},
     "output_type": "execute_result"
    }
   ],
   "source": [
    "dir(factorial)"
   ]
  },
  {
   "cell_type": "markdown",
   "metadata": {},
   "source": [
    "##### Without argument and with return:\n"
   ]
  },
  {
   "cell_type": "markdown",
   "metadata": {},
   "source": [
    "def function_name():\n",
    "    input1\n",
    "    input2\n",
    "    output\n",
    "    return output\n",
    "function_name()\n"
   ]
  },
  {
   "cell_type": "code",
   "execution_count": 33,
   "metadata": {},
   "outputs": [],
   "source": [
    "def add():\n",
    "    a = 20\n",
    "    b = 30\n",
    "    c = a + b\n",
    "    return c"
   ]
  },
  {
   "cell_type": "code",
   "execution_count": 34,
   "metadata": {},
   "outputs": [
    {
     "data": {
      "text/plain": [
       "50"
      ]
     },
     "execution_count": 34,
     "metadata": {},
     "output_type": "execute_result"
    }
   ],
   "source": [
    "add()"
   ]
  },
  {
   "cell_type": "markdown",
   "metadata": {},
   "source": []
  },
  {
   "cell_type": "markdown",
   "metadata": {},
   "source": []
  },
  {
   "cell_type": "code",
   "execution_count": 35,
   "metadata": {},
   "outputs": [
    {
     "name": "stdout",
     "output_type": "stream",
     "text": [
      "5\n"
     ]
    },
    {
     "data": {
      "text/plain": [
       "120"
      ]
     },
     "execution_count": 35,
     "metadata": {},
     "output_type": "execute_result"
    }
   ],
   "source": [
    "def factorial():\n",
    "    n=int(input())\n",
    "    fact=1\n",
    "    for i in range(1,n+1):\n",
    "        fact=fact*i\n",
    "    return fact\n",
    "factorial()\n"
   ]
  },
  {
   "cell_type": "markdown",
   "metadata": {},
   "source": [
    "#### With Argument and without return:\n",
    "\n"
   ]
  },
  {
   "cell_type": "markdown",
   "metadata": {},
   "source": [
    "def function_name(parameter1,parameter2):\n",
    "    output \n",
    "    print(output)"
   ]
  },
  {
   "cell_type": "code",
   "execution_count": 36,
   "metadata": {},
   "outputs": [],
   "source": [
    "def multiplication(a,b):\n",
    "    c = a * b\n",
    "    print(c)\n",
    "    "
   ]
  },
  {
   "cell_type": "code",
   "execution_count": 37,
   "metadata": {},
   "outputs": [
    {
     "name": "stdout",
     "output_type": "stream",
     "text": [
      "8\n"
     ]
    }
   ],
   "source": [
    "multiplication(2,4)"
   ]
  },
  {
   "cell_type": "markdown",
   "metadata": {},
   "source": [
    "##### With Argument and with return :\n"
   ]
  },
  {
   "cell_type": "markdown",
   "metadata": {},
   "source": [
    "def function_name(parameter1,parameter2):\n",
    "    logic\n",
    "    return output\n",
    "    \n",
    "function_name(input1,input2)\n"
   ]
  },
  {
   "cell_type": "code",
   "execution_count": 43,
   "metadata": {},
   "outputs": [],
   "source": [
    "def division(a,b):\n",
    "    c = int(a/b)\n",
    "    return c\n"
   ]
  },
  {
   "cell_type": "code",
   "execution_count": 44,
   "metadata": {},
   "outputs": [
    {
     "data": {
      "text/plain": [
       "2"
      ]
     },
     "execution_count": 44,
     "metadata": {},
     "output_type": "execute_result"
    }
   ],
   "source": [
    "division(4,2)"
   ]
  },
  {
   "cell_type": "markdown",
   "metadata": {},
   "source": [
    "* Create a function  to print all numbers divisible by 6 and not a factor 100 in a given range(1,100)\n",
    "* Create a function to find the average of cubes of all the even numbers in the given range(1,100)"
   ]
  },
  {
   "cell_type": "code",
   "execution_count": 50,
   "metadata": {},
   "outputs": [
    {
     "name": "stdout",
     "output_type": "stream",
     "text": [
      "260100.0\n"
     ]
    }
   ],
   "source": [
    "### Create a function to find the average of cubes of all the even numbers in the given range(1,100)given range(1,100)\n",
    "def func2():\n",
    "    count=0\n",
    "    s=0\n",
    "    for i in range(1,101):\n",
    "        if i%2==0:\n",
    "            cube=i**3\n",
    "            s=s+cube\n",
    "            count+=1\n",
    "    avg=s/count\n",
    "    print(avg)\n",
    "func2()\n"
   ]
  },
  {
   "cell_type": "markdown",
   "metadata": {},
   "source": [
    "#### Recursive Functions:\n",
    "\n",
    "* When a function call iself is known as recursive function.\n",
    "\n",
    "Advantages:\n",
    "\n",
    "* It makes the code simple.\n",
    "* It breaks the complex tasks and simplify our program.\n",
    "\n"
   ]
  },
  {
   "cell_type": "code",
   "execution_count": 51,
   "metadata": {},
   "outputs": [
    {
     "name": "stdout",
     "output_type": "stream",
     "text": [
      "5\n"
     ]
    },
    {
     "data": {
      "text/plain": [
       "120"
      ]
     },
     "execution_count": 51,
     "metadata": {},
     "output_type": "execute_result"
    }
   ],
   "source": [
    "def factorial():\n",
    "    n=int(input())\n",
    "    fact=1\n",
    "    for i in range(1,n+1):\n",
    "        fact=fact*i\n",
    "    return fact\n",
    "factorial()\n"
   ]
  },
  {
   "cell_type": "code",
   "execution_count": 6,
   "metadata": {},
   "outputs": [],
   "source": [
    "def recursivefact(n):\n",
    "    if n == 1 or n == 0:\n",
    "        return 1\n",
    "    else :\n",
    "        return (n * recursivefact(n-1))\n",
    "        \n",
    "    "
   ]
  },
  {
   "cell_type": "code",
   "execution_count": 10,
   "metadata": {},
   "outputs": [
    {
     "data": {
      "text/plain": [
       "120"
      ]
     },
     "execution_count": 10,
     "metadata": {},
     "output_type": "execute_result"
    }
   ],
   "source": [
    "recursivefact(5)\n"
   ]
  },
  {
   "cell_type": "markdown",
   "metadata": {},
   "source": [
    "TASKS:\n",
    "\n",
    "1.Function to print all numbers divisible by 6 and not a factor of 100 in a given range(lb, ub)\n",
    "\n",
    "2.Function to find the average of cubes of all the even numbers in a given range(lb, ub) inclusive\n",
    "\n",
    "3.Function to generate the list of factors for a given number\n",
    "\n",
    "4.Function to calculate the factorial of a given number\n",
    "\n",
    "5.Function to check if a given number is Prime or not\n",
    "\n",
    "6.Function to calculate the average first N Prime numbers\n",
    "\n",
    "7.Function to generate all Perfect numbers in a given range\n",
    "\n",
    "8.Function to generate N odd Armstrong numbers\n",
    "\n",
    "9.Check the given year is a Leap year or not\n",
    "\n",
    "10.Check if the number exist in a given range (inputs: number(n), range(lower number and upper number)\n",
    "\n",
    "11.Check the number of digits in a given number"
   ]
  },
  {
   "cell_type": "code",
   "execution_count": null,
   "metadata": {},
   "outputs": [],
   "source": []
  }
 ],
 "metadata": {
  "kernelspec": {
   "display_name": "Python 3",
   "language": "python",
   "name": "python3"
  }
 },
 "nbformat": 4,
 "nbformat_minor": 2
}
