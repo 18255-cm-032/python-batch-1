{
 "cells": [
  {
   "cell_type": "markdown",
   "metadata": {},
   "source": [
    "### Functional Programming\n",
    "- lambda\n",
    "- map\n",
    "- filter\n",
    "- reduce"
   ]
  },
  {
   "cell_type": "markdown",
   "metadata": {},
   "source": [
    "### Lamba(): Also known as anonymous function. It is used for creating a small functions\n",
    "- syntax: lambda arguments:expression\n",
    "\n",
    "- note: lambda function can have no.of agruments,but can have only one expression."
   ]
  },
  {
   "cell_type": "code",
   "execution_count": 1,
   "metadata": {},
   "outputs": [
    {
     "data": {
      "text/plain": [
       "30"
      ]
     },
     "execution_count": 1,
     "metadata": {},
     "output_type": "execute_result"
    }
   ],
   "source": [
    "def add(a,b):\n",
    "    return a+b\n",
    "add(10,20)"
   ]
  },
  {
   "cell_type": "code",
   "execution_count": 2,
   "metadata": {},
   "outputs": [],
   "source": [
    "add2 = lambda a,b:a+b"
   ]
  },
  {
   "cell_type": "code",
   "execution_count": 3,
   "metadata": {},
   "outputs": [
    {
     "data": {
      "text/plain": [
       "function"
      ]
     },
     "execution_count": 3,
     "metadata": {},
     "output_type": "execute_result"
    }
   ],
   "source": [
    "type(add2)"
   ]
  },
  {
   "cell_type": "code",
   "execution_count": 4,
   "metadata": {},
   "outputs": [
    {
     "name": "stdout",
     "output_type": "stream",
     "text": [
      "30\n"
     ]
    }
   ],
   "source": [
    "print(add2(10,20))"
   ]
  },
  {
   "cell_type": "markdown",
   "metadata": {},
   "source": [
    "### map(): This function can take user_defined function as a parameter\n",
    "- syntax: map(function, iterable1,iterable2,iterable3....)"
   ]
  },
  {
   "cell_type": "code",
   "execution_count": 5,
   "metadata": {},
   "outputs": [
    {
     "name": "stdout",
     "output_type": "stream",
     "text": [
      "<map object at 0x000002F017028D68>\n",
      "[1, 4, 9, 16]\n"
     ]
    }
   ],
   "source": [
    "def mul(a):\n",
    "    return a*a\n",
    "x = map(mul,(1,2,3,4))\n",
    "print(x)\n",
    "print(list(x))"
   ]
  },
  {
   "cell_type": "code",
   "execution_count": 6,
   "metadata": {},
   "outputs": [
    {
     "data": {
      "text/plain": [
       "['NIHA', 'SIRISHA', 'LAVANYA', 'SINDHU']"
      ]
     },
     "execution_count": 6,
     "metadata": {},
     "output_type": "execute_result"
    }
   ],
   "source": [
    "names = ['niha','sirisha','lavanya','sindhu']\n",
    "uLetters = list(map(str.upper,names))\n",
    "uLetters"
   ]
  },
  {
   "cell_type": "markdown",
   "metadata": {},
   "source": [
    "#### map() with lambda()"
   ]
  },
  {
   "cell_type": "code",
   "execution_count": 7,
   "metadata": {},
   "outputs": [],
   "source": [
    "#num = [2,3,4,5]\n",
    "ans = map(lambda x:x**3,[2,3,4,5])"
   ]
  },
  {
   "cell_type": "code",
   "execution_count": 8,
   "metadata": {},
   "outputs": [
    {
     "name": "stdout",
     "output_type": "stream",
     "text": [
      "[8, 27, 64, 125]\n"
     ]
    }
   ],
   "source": [
    "print(list(ans))"
   ]
  },
  {
   "cell_type": "markdown",
   "metadata": {},
   "source": [
    "### filter(): returns the iterator where the items are filtered\n",
    "- syntax: filter(fnction,iteratables)"
   ]
  },
  {
   "cell_type": "code",
   "execution_count": 9,
   "metadata": {},
   "outputs": [
    {
     "name": "stdout",
     "output_type": "stream",
     "text": [
      "55\n",
      "123\n",
      "100\n"
     ]
    }
   ],
   "source": [
    "# filter() without lambda()\n",
    "num = [10,20,12,55,123,100,45]\n",
    "\n",
    "def greterFunc(x):\n",
    "    if x>=55:\n",
    "        return True\n",
    "    else:\n",
    "        return False\n",
    "    \n",
    "ans = filter(greterFunc,num)\n",
    "for i in ans:\n",
    "    print(i)"
   ]
  },
  {
   "cell_type": "markdown",
   "metadata": {},
   "source": [
    "#### filter() with lambda()"
   ]
  },
  {
   "cell_type": "code",
   "execution_count": 10,
   "metadata": {},
   "outputs": [
    {
     "name": "stdout",
     "output_type": "stream",
     "text": [
      "[55, 123, 100]\n"
     ]
    }
   ],
   "source": [
    "result = filter(lambda x:x>=55,num)\n",
    "print(list(result))"
   ]
  },
  {
   "cell_type": "code",
   "execution_count": 12,
   "metadata": {},
   "outputs": [
    {
     "name": "stdout",
     "output_type": "stream",
     "text": [
      "['o', 'i', 'a', 'e']\n"
     ]
    }
   ],
   "source": [
    "v = 'olympic game'\n",
    "ans2 = lambda x:True if x in 'a,e,i,o,u' else False\n",
    "f = filter(ans2,v)\n",
    "print(list(f))"
   ]
  },
  {
   "cell_type": "markdown",
   "metadata": {},
   "source": [
    "### reduce(): This function returns single value\n",
    "- syntax: reduce(function,iterables)"
   ]
  },
  {
   "cell_type": "code",
   "execution_count": 13,
   "metadata": {},
   "outputs": [
    {
     "name": "stdout",
     "output_type": "stream",
     "text": [
      "100\n"
     ]
    }
   ],
   "source": [
    "import functools\n",
    "ans = functools.reduce(lambda x,y:x+y,[10,20,30,40])\n",
    "print(ans)"
   ]
  },
  {
   "cell_type": "markdown",
   "metadata": {},
   "source": [
    "## Task1\n",
    "paragraph =[\"There was a fox\",\"It was brown in color\",\"it was seen near that farm sometime back\"]\n",
    "\n",
    "Output:\n",
    "[\"There\",\"was\",\"a\",\"fox\",\"It\",\"was\",\"brown\",\"in\",\"color\",\"it\",\"was\",\"seen\",\"near\",\"that\",\"farm\", \"sometime\",\"back\"]\n",
    "\n",
    "## Task2\n",
    "list1 = ['Nikola','james','albert']<br>\n",
    "list2 = ['tesla','watt','einstein']\n",
    "\n",
    "Output:\n",
    "['nikola tesla','james watt','albert einstein']"
   ]
  },
  {
   "cell_type": "code",
   "execution_count": null,
   "metadata": {},
   "outputs": [],
   "source": []
  },
  {
   "cell_type": "code",
   "execution_count": null,
   "metadata": {},
   "outputs": [],
   "source": []
  },
  {
   "cell_type": "code",
   "execution_count": null,
   "metadata": {},
   "outputs": [],
   "source": []
  },
  {
   "cell_type": "code",
   "execution_count": null,
   "metadata": {},
   "outputs": [],
   "source": []
  },
  {
   "cell_type": "code",
   "execution_count": null,
   "metadata": {},
   "outputs": [],
   "source": []
  }
 ],
 "metadata": {
  "kernelspec": {
   "display_name": "Python 3",
   "language": "python",
   "name": "python3"
  },
  "language_info": {
   "codemirror_mode": {
    "name": "ipython",
    "version": 3
   },
   "file_extension": ".py",
   "mimetype": "text/x-python",
   "name": "python",
   "nbconvert_exporter": "python",
   "pygments_lexer": "ipython3",
   "version": "3.7.3"
  }
 },
 "nbformat": 4,
 "nbformat_minor": 2
}
