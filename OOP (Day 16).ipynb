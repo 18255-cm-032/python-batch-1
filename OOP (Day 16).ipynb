{
 "cells": [
  {
   "cell_type": "markdown",
   "metadata": {},
   "source": [
    "\n",
    "\n",
    "# OOP - Python\n",
    "\n",
    "### What is Object Oriented Programming?\n",
    "\n",
    "- Object Oriented Programming (OOP) allows decomposition of a problem into a number of units called objects\n",
    "- Python, an Object Oriented programming (OOP), is a way of programming that focuses on using objects and classes to design and build applications.\n",
    "\n",
    "### Why to Choose ObjectOriented Programming?\n",
    "\n",
    "``` Python was designed with an object-oriented approach. OOP offers the following advantages:```\n",
    "- Provides a clear program structure, which makes it easy to map real world problems and their solutions.\n",
    "- Facilitates easy maintenance and modification of existing code.\n",
    "- Imparts code reusability\n",
    "\n",
    "### class\n",
    "- A class is a way to take a grouping of functions and data and place them inside a container\n",
    "\n",
    "### object\n",
    "-  when you instantiate a class, you get an object.You can instantiate an object, similar to calling a class like a function.Performs functionality defined in the class\n",
    "\n",
    "### method\n",
    "- A name given to a function which is defined inside a class.\n",
    "\n",
    "### constructor\n",
    "- used to instantiate an object.\n",
    "- It's task is to initialize(assign values) to the data members of a class when an object of a class is created.\n",
    "\n",
    "```  Class contains the blueprint which describes how to make the instances. An instances or object are constructed from the class. In most cases, we can have more than one instances of a class. Every instance has a set of attribute and these attributes are defined in a class, so every instance of a particular class is expected to have the same attributes. ```\n",
    "\n",
    "\n"
   ]
  },
  {
   "cell_type": "markdown",
   "metadata": {},
   "source": [
    "### Creating a class and object"
   ]
  },
  {
   "cell_type": "code",
   "execution_count": 9,
   "metadata": {},
   "outputs": [
    {
     "data": {
      "text/plain": [
       "<__main__.myclass at 0x6166070>"
      ]
     },
     "execution_count": 9,
     "metadata": {},
     "output_type": "execute_result"
    }
   ],
   "source": [
    "class myclass:\n",
    "    pass\n",
    "\n",
    "myclass() # creation of instance/ object"
   ]
  },
  {
   "cell_type": "code",
   "execution_count": 10,
   "metadata": {},
   "outputs": [
    {
     "data": {
      "text/plain": [
       "<__main__.myclass at 0x6166118>"
      ]
     },
     "execution_count": 10,
     "metadata": {},
     "output_type": "execute_result"
    }
   ],
   "source": [
    "obj = myclass()\n",
    "obj"
   ]
  },
  {
   "cell_type": "code",
   "execution_count": 7,
   "metadata": {},
   "outputs": [
    {
     "data": {
      "text/plain": [
       "33"
      ]
     },
     "execution_count": 7,
     "metadata": {},
     "output_type": "execute_result"
    }
   ],
   "source": [
    "class myclass:\n",
    "    var = 33 # class attibute\n",
    "    \n",
    "obj = myclass()\n",
    "obj.var"
   ]
  },
  {
   "cell_type": "markdown",
   "metadata": {},
   "source": [
    "### Creating method"
   ]
  },
  {
   "cell_type": "code",
   "execution_count": 13,
   "metadata": {},
   "outputs": [
    {
     "name": "stdout",
     "output_type": "stream",
     "text": [
      "3\n",
      "<__main__.myclass object at 0x06166B08>\n"
     ]
    }
   ],
   "source": [
    "class myclass:\n",
    "    def mymethod(self):\n",
    "        var = 3\n",
    "        print(var)\n",
    "        print(self)\n",
    "        \n",
    "obj = myclass()\n",
    "obj.mymethod()"
   ]
  },
  {
   "cell_type": "code",
   "execution_count": 14,
   "metadata": {},
   "outputs": [
    {
     "name": "stdout",
     "output_type": "stream",
     "text": [
      "Yes\n"
     ]
    }
   ],
   "source": [
    "class myclass:\n",
    "    def even(self,num):\n",
    "        if num%2==0:\n",
    "            print(\"Yes\")\n",
    "        else:\n",
    "            print('No')\n",
    "obj = myclass()\n",
    "obj.even(4)"
   ]
  },
  {
   "cell_type": "code",
   "execution_count": 15,
   "metadata": {},
   "outputs": [
    {
     "name": "stdout",
     "output_type": "stream",
     "text": [
      "No\n"
     ]
    }
   ],
   "source": [
    "obj.even(987)"
   ]
  },
  {
   "cell_type": "markdown",
   "metadata": {},
   "source": [
    "### constructor\n",
    "- default constructor\n",
    "- parameterised constructor"
   ]
  },
  {
   "cell_type": "code",
   "execution_count": 17,
   "metadata": {},
   "outputs": [
    {
     "data": {
      "text/plain": [
       "'John'"
      ]
     },
     "execution_count": 17,
     "metadata": {},
     "output_type": "execute_result"
    }
   ],
   "source": [
    "class sample:\n",
    "    def __init__(self): ## default constructor\n",
    "        self.name = 'John'\n",
    "obj = sample()\n",
    "obj.name"
   ]
  },
  {
   "cell_type": "code",
   "execution_count": 19,
   "metadata": {},
   "outputs": [
    {
     "data": {
      "text/plain": [
       "'Joe'"
      ]
     },
     "execution_count": 19,
     "metadata": {},
     "output_type": "execute_result"
    }
   ],
   "source": [
    "class sample:\n",
    "    def __init__(self,name): ## parameterised constructor\n",
    "        self.name = name\n",
    "obj = sample('Joe')\n",
    "obj.name"
   ]
  },
  {
   "cell_type": "code",
   "execution_count": 21,
   "metadata": {},
   "outputs": [
    {
     "name": "stdout",
     "output_type": "stream",
     "text": [
      "Student Details:\n",
      "Roll Number:  12\n",
      "Name: Leena\n",
      "Branch CSE\n",
      "<__main__.student object at 0x0113C2F8>\n"
     ]
    }
   ],
   "source": [
    "class student:\n",
    "    def __init__(self,rollno,name,branch):\n",
    "        self.roll = rollno\n",
    "        self.name = name\n",
    "        self.branch = branch\n",
    "        \n",
    "    def details(self):\n",
    "        print('Student Details:')\n",
    "        print('Roll Number: ',self.roll)\n",
    "        print('Name:',self.name)\n",
    "        print('Branch',self.branch)\n",
    "        print(self)\n",
    "ob = student(12,'Leena','CSE')\n",
    "ob.details()"
   ]
  },
  {
   "cell_type": "code",
   "execution_count": 22,
   "metadata": {},
   "outputs": [
    {
     "name": "stdout",
     "output_type": "stream",
     "text": [
      "Student Details:\n",
      "Roll Number:  34\n",
      "Name: Meena\n",
      "Branch ECE\n",
      "<__main__.student object at 0x06166E98>\n"
     ]
    }
   ],
   "source": [
    "ob2 = student(34,'Meena','ECE')\n",
    "ob2.details()"
   ]
  },
  {
   "cell_type": "code",
   "execution_count": 30,
   "metadata": {},
   "outputs": [
    {
     "name": "stdout",
     "output_type": "stream",
     "text": [
      "Girls: 45.09803921568628\n",
      "Boys: 54.90196078431373\n"
     ]
    }
   ],
   "source": [
    "class myclass:\n",
    "    def __init__(self,girls,boys):\n",
    "        self.girl_count = girls\n",
    "        self.boy_count = boys\n",
    "        \n",
    "    def percentageGirls(self):\n",
    "        #return (girls/(boys+girls))*100\n",
    "        return (self.girl_count/(self.girl_count+self.boy_count))*100\n",
    "    \n",
    "    def percentageBoys(self):\n",
    "        g = self.girl_count\n",
    "        b = self.boy_count\n",
    "        return (b/(b+g))*100\n",
    "obj = myclass(46,56)\n",
    "x = obj.percentageGirls()\n",
    "print(\"Girls:\",x)\n",
    "y = obj.percentageBoys()\n",
    "print(\"Boys:\",y)"
   ]
  },
  {
   "cell_type": "code",
   "execution_count": 29,
   "metadata": {},
   "outputs": [
    {
     "data": {
      "text/plain": [
       "45.098"
      ]
     },
     "execution_count": 29,
     "metadata": {},
     "output_type": "execute_result"
    }
   ],
   "source": [
    "round(x,3)"
   ]
  },
  {
   "cell_type": "markdown",
   "metadata": {},
   "source": [
    "### Problem Statement\n",
    "- Define a class 'myclass' which takes a list of marks of students\n",
    "- define a method 'passPercentage' which gives the percentage of passed students"
   ]
  },
  {
   "cell_type": "code",
   "execution_count": 31,
   "metadata": {},
   "outputs": [
    {
     "data": {
      "text/plain": [
       "58.333333333333336"
      ]
     },
     "execution_count": 31,
     "metadata": {},
     "output_type": "execute_result"
    }
   ],
   "source": [
    "class myclass:\n",
    "    def __init__(self,marks_list):\n",
    "        self.marks = marks_list\n",
    "    def passPercentage(self):\n",
    "        x = self.marks\n",
    "        c = 0\n",
    "        for mark in x:\n",
    "            if mark>=35:\n",
    "                c += 1\n",
    "        return (c/len(x))*100\n",
    "obj = myclass([12,23,3,43,67,90,89,67,76,54,3,6])\n",
    "obj.passPercentage()             "
   ]
  },
  {
   "cell_type": "code",
   "execution_count": 34,
   "metadata": {},
   "outputs": [
    {
     "name": "stdout",
     "output_type": "stream",
     "text": [
      "10\n",
      "12\n",
      "2\n",
      "90\n",
      "78\n",
      "34\n",
      "56\n",
      "78\n",
      "34\n",
      "56\n",
      "21\n"
     ]
    },
    {
     "data": {
      "text/plain": [
       "50.0"
      ]
     },
     "execution_count": 34,
     "metadata": {},
     "output_type": "execute_result"
    }
   ],
   "source": [
    "## Input:\n",
    "# first line : number of students (n)\n",
    "# next n lines wiil be the marks of n students\n",
    "n = int(input())\n",
    "marks = []\n",
    "for i in range(n):\n",
    "    mark = int(input())\n",
    "    marks.append(mark)\n",
    "obj2 = myclass(marks)\n",
    "obj2.passPercentage()"
   ]
  },
  {
   "cell_type": "markdown",
   "metadata": {},
   "source": [
    "### Task\n",
    "- Define a class 'student' which takes name,rollno,branch,cgpa\n",
    "- Define a method 'grade' which has to return the grade of student based on cgpa\n",
    "    - cgpa >= 8 ---> A\n",
    "    - cgpa >= 7 ---> B\n",
    "    - cgpa >= 6 ---> C\n",
    "    - cgpa >= 5 ---> D\n",
    "    - cgpa <5 ----> Fail :("
   ]
  },
  {
   "cell_type": "markdown",
   "metadata": {},
   "source": [
    "### Problem Statement\n",
    "- Define a class 'basic' which take a list of elements\n",
    "- Define a method 'checkPalindromes' which has to return the palindomes in the given list\n",
    "  if there is no palindromes in the list, print 'no palindromes'"
   ]
  },
  {
   "cell_type": "code",
   "execution_count": 37,
   "metadata": {},
   "outputs": [
    {
     "name": "stdout",
     "output_type": "stream",
     "text": [
      "mom\n",
      "lol\n"
     ]
    }
   ],
   "source": [
    "class basic:\n",
    "    def __init__(self,listt):\n",
    "        self.listt = listt\n",
    "    def checkPalindromes(self):\n",
    "        x = self.listt\n",
    "        pal = []\n",
    "        for i in x:\n",
    "            if i == i[::-1]:\n",
    "                pal.append(i)\n",
    "        return pal\n",
    "obj = basic(['mom','python','data','lol'])\n",
    "a = obj.checkPalindromes()\n",
    "if len(a)!=0:\n",
    "    for i in a:\n",
    "        print(i)\n",
    "else:\n",
    "    print(\"no palindromes\")"
   ]
  },
  {
   "cell_type": "code",
   "execution_count": 38,
   "metadata": {},
   "outputs": [
    {
     "name": "stdout",
     "output_type": "stream",
     "text": [
      "no palindromes\n"
     ]
    }
   ],
   "source": [
    "obj2 = basic(['python','data'])\n",
    "a = obj2.checkPalindromes()\n",
    "if len(a)!=0:\n",
    "    for i in a:\n",
    "        print(i)\n",
    "else:\n",
    "    print(\"no palindromes\")"
   ]
  },
  {
   "cell_type": "markdown",
   "metadata": {},
   "source": [
    "### Problem Statement\n",
    "- Define a class 'student' which takes name,rollno,branch\n",
    "- Define a method 'branchCheck'.\n",
    "    - It has to return the name and branch of that student.\n"
   ]
  },
  {
   "cell_type": "code",
   "execution_count": 39,
   "metadata": {},
   "outputs": [
    {
     "name": "stdout",
     "output_type": "stream",
     "text": [
      "Preethi:CSE\n"
     ]
    }
   ],
   "source": [
    "class student:\n",
    "    def __init__(self,name,rollno,branch):\n",
    "        self.name = name\n",
    "        self.roll = rollno\n",
    "        self.branch = branch\n",
    "    def branchCheck(self):\n",
    "        print(self.name +':'+self.branch)\n",
    "\n",
    "o = student('Preethi',12,'CSE')\n",
    "o.branchCheck()    "
   ]
  },
  {
   "cell_type": "code",
   "execution_count": null,
   "metadata": {},
   "outputs": [],
   "source": []
  }
 ],
 "metadata": {
  "kernelspec": {
   "display_name": "Python 3",
   "language": "python",
   "name": "python3"
  },
  "language_info": {
   "codemirror_mode": {
    "name": "ipython",
    "version": 3
   },
   "file_extension": ".py",
   "mimetype": "text/x-python",
   "name": "python",
   "nbconvert_exporter": "python",
   "pygments_lexer": "ipython3",
   "version": "3.8.3"
  }
 },
 "nbformat": 4,
 "nbformat_minor": 4
}
