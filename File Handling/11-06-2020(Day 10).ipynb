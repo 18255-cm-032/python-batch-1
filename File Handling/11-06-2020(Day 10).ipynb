{
 "cells": [
  {
   "cell_type": "markdown",
   "metadata": {},
   "source": [
    "### File Handling in Python\n",
    "- File is a collection of records which is stored in computer\n",
    "\n",
    "### Buit-in-functions\n",
    "- open()\n",
    "- close()\n",
    "\n",
    "### Modes in File Handling\n",
    "- w: Creates a new file, if it is not exist.\n",
    "    - write()\n",
    "- r\n",
    "    - read(): will read all lines as one string\n",
    "    - readline(): returns one line at a time\n",
    "    - readlines(): will read line by line\n",
    "- a\n",
    "    - write()"
   ]
  },
  {
   "cell_type": "code",
   "execution_count": 1,
   "metadata": {},
   "outputs": [],
   "source": [
    "f = open('file1.txt','w')\n",
    "f2 = f.write('Python')\n",
    "f.close()"
   ]
  },
  {
   "cell_type": "code",
   "execution_count": 2,
   "metadata": {},
   "outputs": [],
   "source": [
    "f = open('file1.txt','w')\n",
    "f2 = f.write('Programming')\n",
    "f.close()"
   ]
  },
  {
   "cell_type": "code",
   "execution_count": 3,
   "metadata": {},
   "outputs": [],
   "source": [
    "f = open('file1.txt','a')\n",
    "f2 = f.write('Language')\n",
    "f.close()"
   ]
  },
  {
   "cell_type": "code",
   "execution_count": 6,
   "metadata": {},
   "outputs": [
    {
     "name": "stdout",
     "output_type": "stream",
     "text": [
      "Programming Language1\n",
      "Programming Language2\n",
      "Programming Language3\n"
     ]
    }
   ],
   "source": [
    "f = open('file1.txt','r')\n",
    "print(f.read())\n",
    "f.close()"
   ]
  },
  {
   "cell_type": "code",
   "execution_count": 30,
   "metadata": {},
   "outputs": [
    {
     "name": "stdout",
     "output_type": "stream",
     "text": [
      "['Programming Language2\\n']\n"
     ]
    }
   ],
   "source": [
    "f = open('file1.txt','r')\n",
    "print(f.readlines()[1:2])\n",
    "f.close()"
   ]
  },
  {
   "cell_type": "code",
   "execution_count": 7,
   "metadata": {},
   "outputs": [
    {
     "name": "stdout",
     "output_type": "stream",
     "text": [
      "Programming Language1\n",
      "\n"
     ]
    }
   ],
   "source": [
    "f = open('file1.txt','r')\n",
    "print(f.readline())\n",
    "f.close()"
   ]
  },
  {
   "cell_type": "code",
   "execution_count": 8,
   "metadata": {},
   "outputs": [
    {
     "name": "stdout",
     "output_type": "stream",
     "text": [
      "['Programming Language1\\n', 'Programming Language2\\n', 'Programming Language3']\n"
     ]
    }
   ],
   "source": [
    "f = open('file1.txt','r')\n",
    "print(f.readlines())\n",
    "f.close()"
   ]
  },
  {
   "cell_type": "code",
   "execution_count": 13,
   "metadata": {},
   "outputs": [
    {
     "name": "stdout",
     "output_type": "stream",
     "text": [
      "P r o g r a m m i n g   L a n g u a g e 1 \n",
      " P r o g r a m m i n g   L a n g u a g e 2 \n",
      " P r o g r a m m i n g   L a n g u a g e 3 "
     ]
    }
   ],
   "source": [
    "# Read letter by letter\n",
    "f = open('file1.txt','r')\n",
    "for i in f.read():\n",
    "    print(i,end=' ')"
   ]
  },
  {
   "cell_type": "code",
   "execution_count": 14,
   "metadata": {},
   "outputs": [
    {
     "data": {
      "text/plain": [
       "'Programming Language1\\nProgramming Language2\\nProgramming Language3'"
      ]
     },
     "execution_count": 14,
     "metadata": {},
     "output_type": "execute_result"
    }
   ],
   "source": [
    "# Using Functions\n",
    "def readfile(path):\n",
    "    with open(path,'r') as f:\n",
    "        data = f.read()\n",
    "    return data\n",
    "\n",
    "readfile('file1.txt')"
   ]
  },
  {
   "cell_type": "code",
   "execution_count": 17,
   "metadata": {},
   "outputs": [
    {
     "data": {
      "text/plain": [
       "8"
      ]
     },
     "execution_count": 17,
     "metadata": {},
     "output_type": "execute_result"
    }
   ],
   "source": [
    "from random import randint\n",
    "randint(1,10)"
   ]
  },
  {
   "cell_type": "code",
   "execution_count": 32,
   "metadata": {},
   "outputs": [
    {
     "name": "stdout",
     "output_type": "stream",
     "text": [
      "15\n"
     ]
    }
   ],
   "source": [
    "f = open('rand.txt','w')\n",
    "n = randint(1,100)\n",
    "print(n)\n",
    "f.write(str(n))\n",
    "f.close()"
   ]
  },
  {
   "cell_type": "markdown",
   "metadata": {},
   "source": [
    "### Methods in File handling\n",
    "- tell(): returns the current location of pointer\n",
    "- seek(): we can set the pointer at a specific location"
   ]
  },
  {
   "cell_type": "code",
   "execution_count": 21,
   "metadata": {},
   "outputs": [
    {
     "name": "stdout",
     "output_type": "stream",
     "text": [
      "0\n"
     ]
    }
   ],
   "source": [
    "f = open('file1.txt','r')\n",
    "print(f.tell())\n",
    "f.close()"
   ]
  },
  {
   "cell_type": "code",
   "execution_count": 22,
   "metadata": {},
   "outputs": [
    {
     "name": "stdout",
     "output_type": "stream",
     "text": [
      "22\n"
     ]
    }
   ],
   "source": [
    "f = open('file1.txt','r')\n",
    "f.readline()\n",
    "print(f.tell())\n",
    "f.close()"
   ]
  },
  {
   "cell_type": "code",
   "execution_count": 23,
   "metadata": {},
   "outputs": [
    {
     "name": "stdout",
     "output_type": "stream",
     "text": [
      "0\n"
     ]
    }
   ],
   "source": [
    "f = open('file1.txt','r')\n",
    "print(f.tell())\n",
    "f.close()"
   ]
  },
  {
   "cell_type": "code",
   "execution_count": 25,
   "metadata": {
    "collapsed": true
   },
   "outputs": [
    {
     "name": "stdout",
     "output_type": "stream",
     "text": [
      "10\n",
      "g Language1\n",
      "\n"
     ]
    }
   ],
   "source": [
    "f = open('file1.txt','r')\n",
    "print(f.seek(10))\n",
    "print(f.readline())\n",
    "f.close()"
   ]
  },
  {
   "cell_type": "code",
   "execution_count": 27,
   "metadata": {},
   "outputs": [],
   "source": [
    "# Write a program to search a name in contacts file\n",
    "import re "
   ]
  },
  {
   "cell_type": "code",
   "execution_count": 29,
   "metadata": {},
   "outputs": [
    {
     "name": "stdout",
     "output_type": "stream",
     "text": [
      "sindhu sindhu@gmail.com\n",
      "\n",
      "sirisha sirisha@gmail.com\n",
      "\n"
     ]
    }
   ],
   "source": [
    "def searchName(name):\n",
    "    with open('contacts.txt','r') as f:\n",
    "        for i in f.readlines():\n",
    "            if re.search(name,i):\n",
    "                print(i)\n",
    "                \n",
    "searchName(\"sindhu\")\n",
    "searchName('sirisha@gmail.com')"
   ]
  },
  {
   "cell_type": "code",
   "execution_count": null,
   "metadata": {},
   "outputs": [],
   "source": []
  },
  {
   "cell_type": "code",
   "execution_count": null,
   "metadata": {},
   "outputs": [],
   "source": []
  },
  {
   "cell_type": "code",
   "execution_count": null,
   "metadata": {},
   "outputs": [],
   "source": []
  }
 ],
 "metadata": {
  "kernelspec": {
   "display_name": "Python 3",
   "language": "python",
   "name": "python3"
  },
  "language_info": {
   "codemirror_mode": {
    "name": "ipython",
    "version": 3
   },
   "file_extension": ".py",
   "mimetype": "text/x-python",
   "name": "python",
   "nbconvert_exporter": "python",
   "pygments_lexer": "ipython3",
   "version": "3.7.3"
  }
 },
 "nbformat": 4,
 "nbformat_minor": 2
}
