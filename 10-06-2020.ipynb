{
 "cells": [
  {
   "cell_type": "markdown",
   "metadata": {},
   "source": [
    "## 10-06-2020\n",
    "# Topics\n",
    "- Modules and Packages\n",
    "- Regular expressions"
   ]
  },
  {
   "cell_type": "markdown",
   "metadata": {},
   "source": [
    "# Modules and Packages"
   ]
  },
  {
   "cell_type": "markdown",
   "metadata": {},
   "source": [
    "- Function : collection of statements which can be reusable\n",
    "- Modules : collection of functions or methods (math,random,datetime...etc)\n",
    "- Package : Collection of modules  (numpy,pandas,matplotlib..etc)"
   ]
  },
  {
   "cell_type": "markdown",
   "metadata": {},
   "source": [
    "#### Inbuilt modules in python"
   ]
  },
  {
   "cell_type": "code",
   "execution_count": 2,
   "metadata": {
    "collapsed": true
   },
   "outputs": [
    {
     "name": "stdout",
     "output_type": "stream",
     "text": [
      "\n",
      "Please wait a moment while I gather a list of all available modules...\n",
      "\n"
     ]
    },
    {
     "name": "stderr",
     "output_type": "stream",
     "text": [
      "c:\\users\\sireesha reyyi\\appdata\\local\\programs\\python\\python38-32\\lib\\site-packages\\IPython\\kernel\\__init__.py:12: ShimWarning: The `IPython.kernel` package has been deprecated since IPython 4.0.You should import from ipykernel or jupyter_client instead.\n",
      "  warn(\"The `IPython.kernel` package has been deprecated since IPython 4.0.\"\n",
      "c:\\users\\sireesha reyyi\\appdata\\local\\programs\\python\\python38-32\\lib\\pkgutil.py:107: VisibleDeprecationWarning: zmq.eventloop.minitornado is deprecated in pyzmq 14.0 and will be removed.\n",
      "    Install tornado itself to use zmq with the tornado IOLoop.\n",
      "    \n",
      "  yield from walk_packages(path, info.name+'.', onerror)\n"
     ]
    },
    {
     "name": "stdout",
     "output_type": "stream",
     "text": [
      "IPython             bisect              mmapfile            sympyprinting\n",
      "__future__          bleach              mmsystem            symtable\n",
      "_abc                builtins            modulefinder        sys\n",
      "_ast                bz2                 msilib              sysconfig\n",
      "_asyncio            cProfile            msvcrt              tabnanny\n",
      "_bisect             calendar            multiprocessing     tarfile\n",
      "_blake2             cgi                 nbconvert           telnetlib\n",
      "_bootlocale         cgitb               nbformat            tempfile\n",
      "_bz2                chunk               netbios             terminado\n",
      "_codecs             cmath               netrc               test\n",
      "_codecs_cn          cmd                 nntplib             testpath\n",
      "_codecs_hk          code                notebook            tests\n",
      "_codecs_iso2022     codecs              nt                  textwrap\n",
      "_codecs_jp          codeop              ntpath              this\n",
      "_codecs_kr          collections         ntsecuritycon       threading\n",
      "_codecs_tw          colorama            nturl2path          time\n",
      "_collections        colorsys            numbers             timeit\n",
      "_collections_abc    commctrl            odbc                timer\n",
      "_compat_pickle      compileall          opcode              tkinter\n",
      "_compression        concurrent          operator            token\n",
      "_contextvars        configparser        optparse            tokenize\n",
      "_csv                contextlib          os                  tornado\n",
      "_ctypes             contextvars         packaging           trace\n",
      "_ctypes_test        copy                pandocfilters       traceback\n",
      "_datetime           copyreg             parser              tracemalloc\n",
      "_decimal            crypt               parso               traitlets\n",
      "_dummy_thread       csv                 pathlib             tty\n",
      "_elementtree        ctypes              pdb                 turtle\n",
      "_functools          curses              perfmon             turtledemo\n",
      "_hashlib            cythonmagic         pickle              types\n",
      "_heapq              dataclasses         pickleshare         typing\n",
      "_imp                datetime            pickletools         unicodedata\n",
      "_io                 dateutil            pip                 unittest\n",
      "_json               dbi                 pipes               urllib\n",
      "_locale             dbm                 pkg_resources       uu\n",
      "_lsprof             dde                 pkgutil             uuid\n",
      "_lzma               decimal             platform            venv\n",
      "_markupbase         decorator           plistlib            warnings\n",
      "_md5                defusedxml          poplib              wave\n",
      "_msi                difflib             posixpath           wcwidth\n",
      "_multibytecodec     dis                 pprint              weakref\n",
      "_multiprocessing    distutils           profile             webbrowser\n",
      "_opcode             django              prometheus_client   webencodings\n",
      "_operator           doctest             prompt_toolkit      win2kras\n",
      "_osx_support        dummy_threading     pstats              win32api\n",
      "_overlapped         easy_install        pty                 win32clipboard\n",
      "_pickle             email               py_compile          win32com\n",
      "_py_abc             encodings           pyclbr              win32con\n",
      "_pydecimal          ensurepip           pydoc               win32console\n",
      "_pyio               entrypoints         pydoc_data          win32cred\n",
      "_pyrsistent_version enum                pyexpat             win32crypt\n",
      "_queue              errno               pygments            win32cryptcon\n",
      "_random             faulthandler        pyparsing           win32event\n",
      "_sha1               filecmp             pyrsistent          win32evtlog\n",
      "_sha256             fileinput           pythoncom           win32evtlogutil\n",
      "_sha3               fnmatch             pytz                win32file\n",
      "_sha512             formatter           pywin               win32gui\n",
      "_signal             fractions           pywin32_bootstrap   win32gui_struct\n",
      "_sitebuiltins       ftplib              pywin32_testutil    win32help\n",
      "_socket             functools           pywintypes          win32inet\n",
      "_sqlite3            gc                  queue               win32inetcon\n",
      "_sre                genericpath         quopri              win32job\n",
      "_ssl                getopt              random              win32lz\n",
      "_stat               getpass             rasutil             win32net\n",
      "_statistics         gettext             re                  win32netcon\n",
      "_string             glob                regcheck            win32pdh\n",
      "_strptime           gzip                regutil             win32pdhquery\n",
      "_struct             hashlib             reprlib             win32pdhutil\n",
      "_symtable           heapq               rlcompleter         win32pipe\n",
      "_testbuffer         hmac                rmagic              win32print\n",
      "_testcapi           html                runpy               win32process\n",
      "_testconsole        http                sched               win32profile\n",
      "_testimportmultiple idlelib             secrets             win32ras\n",
      "_testmultiphase     imaplib             select              win32rcparser\n",
      "_thread             imghdr              selectors           win32security\n",
      "_threading_local    imp                 send2trash          win32service\n",
      "_tkinter            importlib           servicemanager      win32serviceutil\n",
      "_tracemalloc        inspect             setuptools          win32timezone\n",
      "_warnings           io                  shelve              win32trace\n",
      "_weakref            ipaddress           shlex               win32traceutil\n",
      "_weakrefset         ipykernel           shutil              win32transaction\n",
      "_win32sysloader     ipykernel_launcher  signal              win32ts\n",
      "_winapi             ipython_genutils    site                win32ui\n",
      "_winxptheme         isapi               six                 win32uiole\n",
      "_xxsubinterpreters  itertools           smtpd               win32verstamp\n",
      "abc                 jedi                smtplib             win32wnet\n",
      "adodbapi            jinja2              sndhdr              winerror\n",
      "afxres              json                socket              winioctlcon\n",
      "aifc                jsonschema          socketserver        winnt\n",
      "antigravity         jupyter             sqlite3             winperf\n",
      "argparse            jupyter_client      sqlparse            winpty\n",
      "array               jupyter_core        sre_compile         winreg\n",
      "asgiref             keyword             sre_constants       winsound\n",
      "ast                 lib2to3             sre_parse           winxpgui\n",
      "asynchat            linecache           ssl                 winxptheme\n",
      "asyncio             locale              sspi                wsgiref\n",
      "asyncore            logging             sspicon             xdrlib\n",
      "atexit              lzma                stat                xml\n",
      "attr                mailbox             statistics          xmlrpc\n",
      "audioop             mailcap             storemagic          xxsubtype\n",
      "autoreload          markupsafe          string              zipapp\n",
      "backcall            marshal             stringprep          zipfile\n",
      "base64              math                struct              zipimport\n",
      "bdb                 mimetypes           subprocess          zlib\n",
      "binascii            mistune             sunau               zmq\n",
      "binhex              mmap                symbol              \n",
      "\n",
      "Enter any module name to get more help.  Or, type \"modules spam\" to search\n",
      "for modules whose name or summary contain the string \"spam\".\n",
      "\n"
     ]
    }
   ],
   "source": [
    "help(\"modules\")"
   ]
  },
  {
   "cell_type": "code",
   "execution_count": 3,
   "metadata": {},
   "outputs": [],
   "source": [
    "## math -- fundamental mathematical operations\n",
    "import math"
   ]
  },
  {
   "cell_type": "code",
   "execution_count": 4,
   "metadata": {
    "collapsed": true
   },
   "outputs": [
    {
     "data": {
      "text/plain": [
       "['__doc__',\n",
       " '__loader__',\n",
       " '__name__',\n",
       " '__package__',\n",
       " '__spec__',\n",
       " 'acos',\n",
       " 'acosh',\n",
       " 'asin',\n",
       " 'asinh',\n",
       " 'atan',\n",
       " 'atan2',\n",
       " 'atanh',\n",
       " 'ceil',\n",
       " 'comb',\n",
       " 'copysign',\n",
       " 'cos',\n",
       " 'cosh',\n",
       " 'degrees',\n",
       " 'dist',\n",
       " 'e',\n",
       " 'erf',\n",
       " 'erfc',\n",
       " 'exp',\n",
       " 'expm1',\n",
       " 'fabs',\n",
       " 'factorial',\n",
       " 'floor',\n",
       " 'fmod',\n",
       " 'frexp',\n",
       " 'fsum',\n",
       " 'gamma',\n",
       " 'gcd',\n",
       " 'hypot',\n",
       " 'inf',\n",
       " 'isclose',\n",
       " 'isfinite',\n",
       " 'isinf',\n",
       " 'isnan',\n",
       " 'isqrt',\n",
       " 'ldexp',\n",
       " 'lgamma',\n",
       " 'log',\n",
       " 'log10',\n",
       " 'log1p',\n",
       " 'log2',\n",
       " 'modf',\n",
       " 'nan',\n",
       " 'perm',\n",
       " 'pi',\n",
       " 'pow',\n",
       " 'prod',\n",
       " 'radians',\n",
       " 'remainder',\n",
       " 'sin',\n",
       " 'sinh',\n",
       " 'sqrt',\n",
       " 'tan',\n",
       " 'tanh',\n",
       " 'tau',\n",
       " 'trunc']"
      ]
     },
     "execution_count": 4,
     "metadata": {},
     "output_type": "execute_result"
    }
   ],
   "source": [
    "dir(math)"
   ]
  },
  {
   "cell_type": "code",
   "execution_count": 5,
   "metadata": {},
   "outputs": [
    {
     "name": "stdout",
     "output_type": "stream",
     "text": [
      "3.141592653589793\n"
     ]
    }
   ],
   "source": [
    "print(math.pi)"
   ]
  },
  {
   "cell_type": "code",
   "execution_count": 6,
   "metadata": {},
   "outputs": [
    {
     "data": {
      "text/plain": [
       "2.0"
      ]
     },
     "execution_count": 6,
     "metadata": {},
     "output_type": "execute_result"
    }
   ],
   "source": [
    "math.sqrt(4)"
   ]
  },
  {
   "cell_type": "code",
   "execution_count": 8,
   "metadata": {},
   "outputs": [
    {
     "data": {
      "text/plain": [
       "13"
      ]
     },
     "execution_count": 8,
     "metadata": {},
     "output_type": "execute_result"
    }
   ],
   "source": [
    "math.ceil(12.5) # ceil is the lowest integer which is greater than or equal to number"
   ]
  },
  {
   "cell_type": "code",
   "execution_count": 10,
   "metadata": {},
   "outputs": [
    {
     "data": {
      "text/plain": [
       "12"
      ]
     },
     "execution_count": 10,
     "metadata": {},
     "output_type": "execute_result"
    }
   ],
   "source": [
    "math.floor(12.5) # floor : largest integer which is less than or equal to number"
   ]
  },
  {
   "cell_type": "code",
   "execution_count": 12,
   "metadata": {},
   "outputs": [
    {
     "data": {
      "text/plain": [
       "12.0"
      ]
     },
     "execution_count": 12,
     "metadata": {},
     "output_type": "execute_result"
    }
   ],
   "source": [
    "math.fabs(-12)"
   ]
  },
  {
   "cell_type": "code",
   "execution_count": 15,
   "metadata": {},
   "outputs": [],
   "source": [
    "import random"
   ]
  },
  {
   "cell_type": "code",
   "execution_count": 21,
   "metadata": {},
   "outputs": [
    {
     "data": {
      "text/plain": [
       "1"
      ]
     },
     "execution_count": 21,
     "metadata": {},
     "output_type": "execute_result"
    }
   ],
   "source": [
    "random.randint(1,10)"
   ]
  },
  {
   "cell_type": "code",
   "execution_count": 27,
   "metadata": {},
   "outputs": [
    {
     "data": {
      "text/plain": [
       "0.27593125062315227"
      ]
     },
     "execution_count": 27,
     "metadata": {},
     "output_type": "execute_result"
    }
   ],
   "source": [
    "random.random() # default range(0,1)"
   ]
  },
  {
   "cell_type": "markdown",
   "metadata": {},
   "source": [
    "## User defined modules\n",
    "- first we have to create a text file with .py extension\n"
   ]
  },
  {
   "cell_type": "markdown",
   "metadata": {},
   "source": [
    " prime:\n",
    " 1 - 1\n",
    " 2 - 1,2 true\n",
    " 3 - 1,3 true\n",
    " 4 - 1,2,4\n",
    " 5 - 1,5 true\n",
    " 10 - 1,2,5,10"
   ]
  },
  {
   "cell_type": "code",
   "execution_count": 30,
   "metadata": {},
   "outputs": [],
   "source": [
    "def prime(n):\n",
    "    c = 0\n",
    "    for i in range(1,n+1):\n",
    "        if n%i==0:\n",
    "            c+=1 # c=c+1\n",
    "    if c==2:\n",
    "        return True\n",
    "    return False"
   ]
  },
  {
   "cell_type": "code",
   "execution_count": 31,
   "metadata": {},
   "outputs": [
    {
     "data": {
      "text/plain": [
       "True"
      ]
     },
     "execution_count": 31,
     "metadata": {},
     "output_type": "execute_result"
    }
   ],
   "source": [
    "prime(3)"
   ]
  },
  {
   "cell_type": "code",
   "execution_count": 40,
   "metadata": {},
   "outputs": [],
   "source": [
    "def prime(n):\n",
    "    if n==1:\n",
    "        return False\n",
    "    else:\n",
    "        for i in range(2,n):\n",
    "            if n%i==0:\n",
    "                return False\n",
    "        return True"
   ]
  },
  {
   "cell_type": "code",
   "execution_count": 41,
   "metadata": {},
   "outputs": [
    {
     "data": {
      "text/plain": [
       "False"
      ]
     },
     "execution_count": 41,
     "metadata": {},
     "output_type": "execute_result"
    }
   ],
   "source": [
    "prime(1)"
   ]
  },
  {
   "cell_type": "code",
   "execution_count": 32,
   "metadata": {},
   "outputs": [],
   "source": [
    "# mom, dad, malayalam...\n",
    "import basic"
   ]
  },
  {
   "cell_type": "code",
   "execution_count": 33,
   "metadata": {},
   "outputs": [
    {
     "data": {
      "text/plain": [
       "True"
      ]
     },
     "execution_count": 33,
     "metadata": {},
     "output_type": "execute_result"
    }
   ],
   "source": [
    "basic.prime(37)"
   ]
  },
  {
   "cell_type": "code",
   "execution_count": 34,
   "metadata": {},
   "outputs": [
    {
     "data": {
      "text/plain": [
       "False"
      ]
     },
     "execution_count": 34,
     "metadata": {},
     "output_type": "execute_result"
    }
   ],
   "source": [
    "basic.palindrome('asdf')"
   ]
  },
  {
   "cell_type": "code",
   "execution_count": 9,
   "metadata": {},
   "outputs": [],
   "source": [
    "from basic import prime as pr"
   ]
  },
  {
   "cell_type": "code",
   "execution_count": 11,
   "metadata": {},
   "outputs": [
    {
     "data": {
      "text/plain": [
       "True"
      ]
     },
     "execution_count": 11,
     "metadata": {},
     "output_type": "execute_result"
    }
   ],
   "source": [
    "pr(379)"
   ]
  },
  {
   "cell_type": "code",
   "execution_count": 12,
   "metadata": {},
   "outputs": [
    {
     "data": {
      "text/plain": [
       "True"
      ]
     },
     "execution_count": 12,
     "metadata": {},
     "output_type": "execute_result"
    }
   ],
   "source": [
    "from my_package import basic\n",
    "basic.prime(47)"
   ]
  },
  {
   "cell_type": "code",
   "execution_count": 13,
   "metadata": {},
   "outputs": [],
   "source": [
    "from my_package.basic import prime"
   ]
  },
  {
   "cell_type": "code",
   "execution_count": 15,
   "metadata": {},
   "outputs": [
    {
     "data": {
      "text/plain": [
       "False"
      ]
     },
     "execution_count": 15,
     "metadata": {},
     "output_type": "execute_result"
    }
   ],
   "source": [
    "prime(45)"
   ]
  },
  {
   "cell_type": "markdown",
   "metadata": {},
   "source": [
    "# Regular Expression\n",
    "- It is a sequence of characters which is used for checking a specific pattern\n",
    "- in the string\n",
    "\n",
    "- import re\n",
    "### methods\n",
    "- search --> it will return the first occurance.\n",
    "- match  --> returns a match object if the pattern is matched\n",
    "- findall --> gives all the occurances\n",
    "- split -->  it will split the string a/c to the pattern\n",
    "- sub --> replace\n",
    "\n",
    "### meta characters\n",
    "- . --->  any character\n",
    "- [] ---> specific set of characters\n",
    "- {} --> number of occurances\n",
    "- ()\n",
    "- ^\n",
    "- $\n",
    "- * --> zero or more occurances\n",
    "- + --> one or more occurances"
   ]
  },
  {
   "cell_type": "code",
   "execution_count": 19,
   "metadata": {},
   "outputs": [
    {
     "name": "stdout",
     "output_type": "stream",
     "text": [
      "acd\n",
      "None\n"
     ]
    }
   ],
   "source": [
    "import re\n",
    "s = input()\n",
    "pattern = '^...&'\n",
    "print(re.match(pattern,s))"
   ]
  },
  {
   "cell_type": "markdown",
   "metadata": {},
   "source": [
    "#### phone number validation\n",
    "Rules:\n",
    "-it should start with 9/8/7/6\n",
    "-should contain only 10 numbers\n",
    "-+91 "
   ]
  },
  {
   "cell_type": "code",
   "execution_count": 20,
   "metadata": {},
   "outputs": [],
   "source": [
    "def phone_number_validator(no):\n",
    "    pattern = '^[6-9][0-9]{9}$'\n",
    "    if re.match(pattern,no):\n",
    "        print(\"valid\")\n",
    "    else:\n",
    "        print(\"invalid\")\n",
    "        "
   ]
  },
  {
   "cell_type": "code",
   "execution_count": 22,
   "metadata": {},
   "outputs": [
    {
     "name": "stdout",
     "output_type": "stream",
     "text": [
      "53839234374\n",
      "invalid\n"
     ]
    }
   ],
   "source": [
    "ph=input()\n",
    "phone_number_validator(ph)"
   ]
  },
  {
   "cell_type": "code",
   "execution_count": 25,
   "metadata": {},
   "outputs": [
    {
     "data": {
      "text/plain": [
       "['p', 'p']"
      ]
     },
     "execution_count": 25,
     "metadata": {},
     "output_type": "execute_result"
    }
   ],
   "source": [
    "text = 'hello python programmers'\n",
    "re.findall('p',text)"
   ]
  },
  {
   "cell_type": "code",
   "execution_count": 27,
   "metadata": {},
   "outputs": [
    {
     "data": {
      "text/plain": [
       "<re.Match object; span=(6, 8), match='py'>"
      ]
     },
     "execution_count": 27,
     "metadata": {},
     "output_type": "execute_result"
    }
   ],
   "source": [
    "re.search('py',text)"
   ]
  },
  {
   "cell_type": "code",
   "execution_count": 28,
   "metadata": {},
   "outputs": [
    {
     "data": {
      "text/plain": [
       "['hello ', 'ython ', 'rogrammers']"
      ]
     },
     "execution_count": 28,
     "metadata": {},
     "output_type": "execute_result"
    }
   ],
   "source": [
    "re.split('p',text)"
   ]
  },
  {
   "cell_type": "code",
   "execution_count": 31,
   "metadata": {},
   "outputs": [
    {
     "data": {
      "text/plain": [
       "'hello @ython @rogrammers'"
      ]
     },
     "execution_count": 31,
     "metadata": {},
     "output_type": "execute_result"
    }
   ],
   "source": [
    "re.sub('p','@',text)"
   ]
  },
  {
   "cell_type": "markdown",
   "metadata": {},
   "source": [
    "### Email validation\n"
   ]
  },
  {
   "cell_type": "markdown",
   "metadata": {},
   "source": [
    "# string : gnirts\n",
    "# mom : mom\n",
    "# 121 : 121\n"
   ]
  }
 ],
 "metadata": {
  "kernelspec": {
   "display_name": "Python 3",
   "language": "python",
   "name": "python3"
  },
  "language_info": {
   "codemirror_mode": {
    "name": "ipython",
    "version": 3
   },
   "file_extension": ".py",
   "mimetype": "text/x-python",
   "name": "python",
   "nbconvert_exporter": "python",
   "pygments_lexer": "ipython3",
   "version": "3.8.3"
  }
 },
 "nbformat": 4,
 "nbformat_minor": 4
}
